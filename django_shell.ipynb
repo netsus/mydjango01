{
 "cells": [
  {
   "cell_type": "code",
   "execution_count": 5,
   "id": "d8c2c400",
   "metadata": {
    "ExecuteTime": {
     "end_time": "2022-08-08T08:07:45.928910Z",
     "start_time": "2022-08-08T08:07:45.919036Z"
    }
   },
   "outputs": [],
   "source": [
    "import django\n",
    "django.setup()\n",
    "import os\n",
    "os.environ[\"DJANGO_ALLOW_ASYNC_UNSAFE\"] = \"true\""
   ]
  },
  {
   "cell_type": "code",
   "execution_count": 6,
   "id": "fe161c0e",
   "metadata": {
    "ExecuteTime": {
     "end_time": "2022-08-08T08:07:46.277883Z",
     "start_time": "2022-08-08T08:07:46.263687Z"
    }
   },
   "outputs": [],
   "source": [
    "from blog.models import Post, Tag, Comment"
   ]
  },
  {
   "cell_type": "markdown",
   "id": "91e2fa9b",
   "metadata": {},
   "source": [
    "## select_related"
   ]
  },
  {
   "cell_type": "code",
   "execution_count": 10,
   "id": "fe0d98a9",
   "metadata": {
    "ExecuteTime": {
     "end_time": "2022-08-08T08:08:24.768780Z",
     "start_time": "2022-08-08T08:08:24.752419Z"
    }
   },
   "outputs": [
    {
     "name": "stderr",
     "output_type": "stream",
     "text": [
      "(0.001) SELECT \"blog_comment\".\"id\", \"blog_comment\".\"post_id\", \"blog_comment\".\"content\" FROM \"blog_comment\"; args=(); alias=default\n",
      "(0.000) SELECT \"blog_post\".\"id\", \"blog_post\".\"title\", \"blog_post\".\"content\" FROM \"blog_post\" WHERE \"blog_post\".\"id\" = 1 LIMIT 21; args=(1,); alias=default\n",
      "(0.000) SELECT \"blog_post\".\"id\", \"blog_post\".\"title\", \"blog_post\".\"content\" FROM \"blog_post\" WHERE \"blog_post\".\"id\" = 5 LIMIT 21; args=(5,); alias=default\n",
      "(0.000) SELECT \"blog_post\".\"id\", \"blog_post\".\"title\", \"blog_post\".\"content\" FROM \"blog_post\" WHERE \"blog_post\".\"id\" = 3 LIMIT 21; args=(3,); alias=default\n",
      "(0.000) SELECT \"blog_post\".\"id\", \"blog_post\".\"title\", \"blog_post\".\"content\" FROM \"blog_post\" WHERE \"blog_post\".\"id\" = 5 LIMIT 21; args=(5,); alias=default\n",
      "(0.000) SELECT \"blog_post\".\"id\", \"blog_post\".\"title\", \"blog_post\".\"content\" FROM \"blog_post\" WHERE \"blog_post\".\"id\" = 4 LIMIT 21; args=(4,); alias=default\n"
     ]
    },
    {
     "name": "stdout",
     "output_type": "stream",
     "text": [
      "오늘은 날이 좋아서\n",
      "슬로싱킹\n",
      "약간의 졸리움\n",
      "슬로싱킹\n",
      "하하하\n"
     ]
    }
   ],
   "source": [
    "for comment in Comment.objects.all():\n",
    "    print(comment.post.title)"
   ]
  },
  {
   "cell_type": "code",
   "execution_count": 11,
   "id": "93047353",
   "metadata": {
    "ExecuteTime": {
     "end_time": "2022-08-08T08:09:19.460637Z",
     "start_time": "2022-08-08T08:09:19.443207Z"
    }
   },
   "outputs": [
    {
     "name": "stderr",
     "output_type": "stream",
     "text": [
      "(0.001) SELECT \"blog_comment\".\"id\", \"blog_comment\".\"post_id\", \"blog_comment\".\"content\", \"blog_post\".\"id\", \"blog_post\".\"title\", \"blog_post\".\"content\" FROM \"blog_comment\" INNER JOIN \"blog_post\" ON (\"blog_comment\".\"post_id\" = \"blog_post\".\"id\"); args=(); alias=default\n"
     ]
    },
    {
     "name": "stdout",
     "output_type": "stream",
     "text": [
      "오늘은 날이 좋아서\n",
      "슬로싱킹\n",
      "약간의 졸리움\n",
      "슬로싱킹\n",
      "하하하\n"
     ]
    }
   ],
   "source": [
    "for comment in Comment.objects.all().select_related(\"post\"):\n",
    "    print(comment.post.title)"
   ]
  },
  {
   "cell_type": "markdown",
   "id": "4f0a8dc4",
   "metadata": {},
   "source": [
    "## prefetch_related"
   ]
  },
  {
   "cell_type": "code",
   "execution_count": 16,
   "id": "bb5bc23f",
   "metadata": {
    "ExecuteTime": {
     "end_time": "2022-08-08T09:38:06.154714Z",
     "start_time": "2022-08-08T09:38:06.132632Z"
    }
   },
   "outputs": [
    {
     "name": "stderr",
     "output_type": "stream",
     "text": [
      "(0.001) SELECT \"blog_post\".\"id\", \"blog_post\".\"title\", \"blog_post\".\"content\" FROM \"blog_post\"; args=(); alias=default\n",
      "(0.000) SELECT \"blog_tag\".\"id\", \"blog_tag\".\"name\" FROM \"blog_tag\" INNER JOIN \"blog_post_tag_set\" ON (\"blog_tag\".\"id\" = \"blog_post_tag_set\".\"tag_id\") WHERE \"blog_post_tag_set\".\"post_id\" = 1; args=(1,); alias=default\n",
      "(0.000) SELECT \"blog_tag\".\"id\", \"blog_tag\".\"name\" FROM \"blog_tag\" INNER JOIN \"blog_post_tag_set\" ON (\"blog_tag\".\"id\" = \"blog_post_tag_set\".\"tag_id\") WHERE \"blog_post_tag_set\".\"post_id\" = 2; args=(2,); alias=default\n",
      "(0.000) SELECT \"blog_tag\".\"id\", \"blog_tag\".\"name\" FROM \"blog_tag\" INNER JOIN \"blog_post_tag_set\" ON (\"blog_tag\".\"id\" = \"blog_post_tag_set\".\"tag_id\") WHERE \"blog_post_tag_set\".\"post_id\" = 3; args=(3,); alias=default\n",
      "(0.000) SELECT \"blog_tag\".\"id\", \"blog_tag\".\"name\" FROM \"blog_tag\" INNER JOIN \"blog_post_tag_set\" ON (\"blog_tag\".\"id\" = \"blog_post_tag_set\".\"tag_id\") WHERE \"blog_post_tag_set\".\"post_id\" = 4; args=(4,); alias=default\n",
      "(0.000) SELECT \"blog_tag\".\"id\", \"blog_tag\".\"name\" FROM \"blog_tag\" INNER JOIN \"blog_post_tag_set\" ON (\"blog_tag\".\"id\" = \"blog_post_tag_set\".\"tag_id\") WHERE \"blog_post_tag_set\".\"post_id\" = 5; args=(5,); alias=default\n"
     ]
    },
    {
     "name": "stdout",
     "output_type": "stream",
     "text": [
      "오늘은 날이 좋아서 ['Cool', 'Good', 'Excellent']\n",
      "더운 여름날 시원한 물한잔 ['Lovely', 'Excellent']\n",
      "약간의 졸리움 ['Cool']\n",
      "하하하 ['Cool', 'Good']\n",
      "슬로싱킹 ['Lovely', 'Cool', 'Good']\n"
     ]
    }
   ],
   "source": [
    "for post in Post.objects.all():\n",
    "    print(post.title, [tag.name for tag in post.tag_set.all()])"
   ]
  },
  {
   "cell_type": "code",
   "execution_count": 17,
   "id": "aa99e7c8",
   "metadata": {
    "ExecuteTime": {
     "end_time": "2022-08-08T09:38:07.162996Z",
     "start_time": "2022-08-08T09:38:07.156832Z"
    }
   },
   "outputs": [
    {
     "name": "stderr",
     "output_type": "stream",
     "text": [
      "(0.001) SELECT \"blog_post\".\"id\", \"blog_post\".\"title\", \"blog_post\".\"content\" FROM \"blog_post\"; args=(); alias=default\n",
      "(0.000) SELECT (\"blog_post_tag_set\".\"post_id\") AS \"_prefetch_related_val_post_id\", \"blog_tag\".\"id\", \"blog_tag\".\"name\" FROM \"blog_tag\" INNER JOIN \"blog_post_tag_set\" ON (\"blog_tag\".\"id\" = \"blog_post_tag_set\".\"tag_id\") WHERE \"blog_post_tag_set\".\"post_id\" IN (1, 2, 3, 4, 5); args=(1, 2, 3, 4, 5); alias=default\n"
     ]
    },
    {
     "name": "stdout",
     "output_type": "stream",
     "text": [
      "오늘은 날이 좋아서 ['Cool', 'Good', 'Excellent']\n",
      "더운 여름날 시원한 물한잔 ['Lovely', 'Excellent']\n",
      "약간의 졸리움 ['Cool']\n",
      "하하하 ['Cool', 'Good']\n",
      "슬로싱킹 ['Lovely', 'Cool', 'Good']\n"
     ]
    }
   ],
   "source": [
    "for post in Post.objects.all().prefetch_related(\"tag_set\"):\n",
    "    print(post.title, [tag.name for tag in post.tag_set.all()])"
   ]
  },
  {
   "cell_type": "code",
   "execution_count": null,
   "id": "a6983ee7",
   "metadata": {},
   "outputs": [],
   "source": []
  }
 ],
 "metadata": {
  "kernelspec": {
   "display_name": "Python 3 (ipykernel)",
   "language": "python",
   "name": "python3"
  },
  "language_info": {
   "codemirror_mode": {
    "name": "ipython",
    "version": 3
   },
   "file_extension": ".py",
   "mimetype": "text/x-python",
   "name": "python",
   "nbconvert_exporter": "python",
   "pygments_lexer": "ipython3",
   "version": "3.8.11"
  },
  "toc": {
   "base_numbering": 1,
   "nav_menu": {},
   "number_sections": true,
   "sideBar": true,
   "skip_h1_title": false,
   "title_cell": "Table of Contents",
   "title_sidebar": "Contents",
   "toc_cell": false,
   "toc_position": {},
   "toc_section_display": true,
   "toc_window_display": false
  }
 },
 "nbformat": 4,
 "nbformat_minor": 5
}
